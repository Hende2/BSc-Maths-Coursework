{
 "cells": [
  {
   "cell_type": "markdown",
   "id": "rolled-smart",
   "metadata": {},
   "source": [
    "# MA12002 Programming coursework\n",
    "\n",
    "**Before making any changes to this notebook, save it as `coursework_USERNAME.ipynb` where `USERNAME` is your username. You need to save this new file in the `ma12002_workspace` directory.**\n",
    "\n",
    "Enter your full name and University username (e.g. `em459`) in the following cell:"
   ]
  },
  {
   "cell_type": "markdown",
   "id": "b9aaf2aa",
   "metadata": {},
   "source": [
    "### Task 1a\n",
    "Implement your function `max_reward_noncircular()` here:"
   ]
  },
  {
   "cell_type": "code",
   "execution_count": 77,
   "id": "cross-photographer",
   "metadata": {},
   "outputs": [],
   "source": [
    "import numpy as np\n",
    "\n",
    "def max_reward_noncircular(b):\n",
    "    '''Recursive function calculating reward of the noncircular variant of game\n",
    "        Input: A list of n integer numbers with 2<=b[j]<=m for all j = 0,1,...,n-1\n",
    "        Output: A single integer unless the list is empty in which case returns -infinity\n",
    "    '''\n",
    "    length = len(b)\n",
    "    if length == 0:\n",
    "        return -1 * np.infty\n",
    "    elif length == 1:\n",
    "        return 0\n",
    "    else:\n",
    "        r1 = max_reward_noncircular(b[1:])\n",
    "        v = b[0]\n",
    "        r2 = v ** 2\n",
    "        if v != length:\n",
    "            r2 = r2 + max_reward_noncircular(b[v:])\n",
    "        return max(r1,r2)"
   ]
  },
  {
   "cell_type": "markdown",
   "id": "8ea0e7aa",
   "metadata": {},
   "source": [
    "### Task 1b\n",
    "Enter the maximum reward for the given list here:"
   ]
  },
  {
   "cell_type": "code",
   "execution_count": 78,
   "id": "f622035d",
   "metadata": {},
   "outputs": [
    {
     "name": "stdout",
     "output_type": "stream",
     "text": [
      "65\n"
     ]
    }
   ],
   "source": [
    "total_reward = max_reward_noncircular([5, 6, 3, 4, 5, 2, 4, 3, 4, 5, 3, 7, 5, 7, 2, 2])\n",
    "print(total_reward)"
   ]
  },
  {
   "cell_type": "markdown",
   "id": "ready-grill",
   "metadata": {},
   "source": [
    "### Task 2\n",
    "Implement your function `cyclic_permutations()` here:"
   ]
  },
  {
   "cell_type": "code",
   "execution_count": 79,
   "id": "transsexual-mechanism",
   "metadata": {},
   "outputs": [],
   "source": [
    "def cyclic_permutations(a):\n",
    "    '''Calculates all cyclic permutations of a list a\n",
    "        Input: A list of length n\n",
    "        Output: A list containing all the possible cyclic permutations (lists) of the input list a.\n",
    "    '''\n",
    "    length = len(a)\n",
    "    permuted_lists = []\n",
    "    #Now we iterate over list a, creating a new list each time with variable i elements bumped from front to end\n",
    "    for i in range(length):\n",
    "        temp_list = a[i:] + a[:i]\n",
    "        permuted_lists.append(temp_list)\n",
    "    return permuted_lists"
   ]
  },
  {
   "cell_type": "markdown",
   "id": "corporate-limit",
   "metadata": {},
   "source": [
    "### Task 3a\n",
    "Implement your function `max_reward()` here:"
   ]
  },
  {
   "cell_type": "code",
   "execution_count": 80,
   "id": "electric-following",
   "metadata": {},
   "outputs": [],
   "source": [
    "def max_reward(a):\n",
    "    '''Calculating the maximum reward for circular variant of the game\n",
    "        Input: A list of n integer numbers with 2<=a[j]<=m for all j = 0,1,...,n-1\n",
    "        Output: A single integer unless the list is empty in which case returns -infinity\n",
    "    '''\n",
    "    all_rewards = []\n",
    "    if len(cyclic_permutations(a)) == 0: #Consider case of empty list\n",
    "        return -1 * np.infty\n",
    "    else: #Compare the rewards from each permutation and then find the total maximum\n",
    "        for element in cyclic_permutations(a):\n",
    "            all_rewards.append(max_reward_noncircular(element))\n",
    "        return max(all_rewards)"
   ]
  },
  {
   "cell_type": "markdown",
   "id": "b66bd434",
   "metadata": {},
   "source": [
    "### Task 3b\n",
    "Enter the maximum reward for the given list here:"
   ]
  },
  {
   "cell_type": "code",
   "execution_count": 81,
   "id": "568f97cb",
   "metadata": {},
   "outputs": [
    {
     "name": "stdout",
     "output_type": "stream",
     "text": [
      "83\n"
     ]
    }
   ],
   "source": [
    "reward = max_reward([5, 6, 3, 4, 5, 2, 4, 3, 4, 5, 3, 7, 5, 7, 2, 2])\n",
    "print(reward)"
   ]
  },
  {
   "cell_type": "markdown",
   "id": "01c33370",
   "metadata": {},
   "source": [
    "### Task 4a\n",
    "Implement your function `max_reward_daq_noncircular()` here:"
   ]
  },
  {
   "cell_type": "code",
   "execution_count": 82,
   "id": "1019c84f",
   "metadata": {},
   "outputs": [],
   "source": [
    "def max_reward_daq_noncircular(b,m):\n",
    "    \"\"\" A divide and conquer algorithm to calculate the maximum reward of the noncircular variant of the game\n",
    "        Input: A list of n integer numbers with 2<=b[j]<=m for all j = 0,1,...,n-1\n",
    "        Output: A single integer unless the list is empty in which case returns -infinity\n",
    "    \"\"\"\n",
    "    n = len(b)\n",
    "    nstar = n//2\n",
    "    #If condition below holds, then sequence of steps for max reward must pass through sublist b[nstar:nstar + m]\n",
    "    if n > nstar + m - 1:\n",
    "        max_reward_mid_interval = -1 * np.infty\n",
    "        for i in range(nstar, nstar + m): #Consider max for each possibility\n",
    "            reward_before_split = max_reward_daq_noncircular(b[:i], max(b[:i]))\n",
    "            reward_after_split = max_reward_daq_noncircular(b[i:], max(b[i:]))\n",
    "            if (reward_before_split + reward_after_split) > max_reward_mid_interval:\n",
    "                max_reward_mid_interval = reward_before_split + reward_after_split\n",
    "        return max_reward_mid_interval\n",
    "    else: #If we cannot conclude anything from condition, resort back to brute force\n",
    "        return max_reward_noncircular(b)"
   ]
  },
  {
   "cell_type": "markdown",
   "id": "grateful-crack",
   "metadata": {},
   "source": [
    "### Task 4b\n",
    "Implement your function `max_reward_daq()` here:"
   ]
  },
  {
   "cell_type": "code",
   "execution_count": 83,
   "id": "changing-asbestos",
   "metadata": {},
   "outputs": [],
   "source": [
    "def max_reward_daq(a):\n",
    "    '''Divide and conquer algorithm to calculate the max reward of the circular variant of the game\n",
    "       Input: A list of n integer numbers with 2<=a[j]<=m for all j = 0,1,...,n-1\n",
    "       Output: A single integer unless the list is empty in which case returns -infinity\n",
    "    '''\n",
    "    max_all_rewards = -1 * np.infty\n",
    "    if len(a) == 0: #Case of empty list considered\n",
    "        return max_all_rewards\n",
    "    else: \n",
    "    #As each sequence has to pass through the sublist a[0] to a[m-1], consider the maximum before/after each element\n",
    "        m = max(a)\n",
    "        if m < len(a):\n",
    "            go_until = m\n",
    "        else: #If the maximum element is greater than length of the list then there exists no element a[m] to access\n",
    "            go_until = len(a) \n",
    "        for i in range(go_until):\n",
    "            permuted_list = a[i:] + a[:i]\n",
    "            reward_for_case_i = max_reward_daq_noncircular(permuted_list,m)\n",
    "            if reward_for_case_i > max_all_rewards:\n",
    "                max_all_rewards = reward_for_case_i\n",
    "        return max_all_rewards"
   ]
  },
  {
   "cell_type": "markdown",
   "id": "varying-missile",
   "metadata": {},
   "source": [
    "### Task 5a\n",
    "Write down the number of the correct statement here:"
   ]
  },
  {
   "cell_type": "code",
   "execution_count": 84,
   "id": "fdcce561",
   "metadata": {},
   "outputs": [
    {
     "data": {
      "text/plain": [
       "2"
      ]
     },
     "execution_count": 84,
     "metadata": {},
     "output_type": "execute_result"
    }
   ],
   "source": [
    "2"
   ]
  },
  {
   "cell_type": "markdown",
   "id": "e8b700f2",
   "metadata": {},
   "source": [
    "### Task 5b\n",
    "Write down the number of the correct statement here:"
   ]
  },
  {
   "cell_type": "code",
   "execution_count": 85,
   "id": "3eac8bb9",
   "metadata": {},
   "outputs": [
    {
     "data": {
      "text/plain": [
       "6"
      ]
     },
     "execution_count": 85,
     "metadata": {},
     "output_type": "execute_result"
    }
   ],
   "source": [
    "6"
   ]
  },
  {
   "cell_type": "markdown",
   "id": "transsexual-vaccine",
   "metadata": {},
   "source": [
    "## Tests\n",
    "Copy the tests from the coursework assignment here and execute them with `run_tests()`:"
   ]
  },
  {
   "cell_type": "code",
   "execution_count": 86,
   "id": "spiritual-stereo",
   "metadata": {},
   "outputs": [
    {
     "name": "stdout",
     "output_type": "stream",
     "text": [
      "\u001b[1m============================= test session starts ==============================\u001b[0m\n",
      "platform linux -- Python 3.9.13, pytest-7.4.0, pluggy-1.3.0 -- /opt/conda/bin/python\n",
      "cachedir: .pytest_cache\n",
      "rootdir: /home/jovyan/ma12002_workspace\n",
      "plugins: timeout-2.1.0, anyio-3.6.1, jupyter-pytest-2-1.0.1\n",
      "timeout: 5.0s\n",
      "timeout method: signal\n",
      "timeout func_only: False\n",
      "\u001b[1mcollecting ... \u001b[0mcollected 13 items\n",
      "\n",
      ".::test_max_reward_noncircular_three_elements_1 \u001b[32mPASSED\u001b[0m\u001b[32m                   [  7%]\u001b[0m\n",
      ".::test_max_reward_noncircular_three_elements_2 \u001b[32mPASSED\u001b[0m\u001b[32m                   [ 15%]\u001b[0m\n",
      ".::test_max_reward_noncircular_three_elements_3 \u001b[32mPASSED\u001b[0m\u001b[32m                   [ 23%]\u001b[0m\n",
      ".::test_max_reward_noncircular_ten_elements \u001b[32mPASSED\u001b[0m\u001b[32m                       [ 30%]\u001b[0m\n",
      ".::test_cyclic_permutations_length_five \u001b[32mPASSED\u001b[0m\u001b[32m                           [ 38%]\u001b[0m\n",
      ".::test_max_reward_three_elements_1 \u001b[32mPASSED\u001b[0m\u001b[32m                               [ 46%]\u001b[0m\n",
      ".::test_max_reward_ten_elements \u001b[32mPASSED\u001b[0m\u001b[32m                                   [ 53%]\u001b[0m\n",
      ".::test_max_reward_daq_noncircular_three_elements_1 \u001b[32mPASSED\u001b[0m\u001b[32m               [ 61%]\u001b[0m\n",
      ".::test_max_reward_daq_noncircular_ten_elements \u001b[32mPASSED\u001b[0m\u001b[32m                   [ 69%]\u001b[0m\n",
      ".::test_max_reward_daq_noncircular_large \u001b[32mPASSED\u001b[0m\u001b[32m                          [ 76%]\u001b[0m\n",
      ".::test_max_reward_daq_three_elements_1 \u001b[32mPASSED\u001b[0m\u001b[32m                           [ 84%]\u001b[0m\n",
      ".::test_max_reward_daq_ten_elements \u001b[32mPASSED\u001b[0m\u001b[32m                               [ 92%]\u001b[0m\n",
      ".::test_max_reward_daq_large \u001b[32mPASSED\u001b[0m\u001b[32m                                      [100%]\u001b[0m\n",
      "\n",
      "\u001b[32m============================== \u001b[32m\u001b[1m13 passed\u001b[0m\u001b[32m in 2.56s\u001b[0m\u001b[32m ==============================\u001b[0m\n"
     ]
    }
   ],
   "source": [
    "import numpy as np\n",
    "\n",
    "####################################################\n",
    "# TESTS\n",
    "####################################################\n",
    "\n",
    "#### Brute force, non-circular (Part 1a) ####\n",
    "\n",
    "def test_max_reward_noncircular_three_elements_1():\n",
    "    \"\"\"Apply non-circular  brute force algorithm to list with three elements (case 1)\"\"\"\n",
    "    assert max_reward_noncircular([3, 2, 4]) == 9\n",
    "\n",
    "def test_max_reward_noncircular_three_elements_2():\n",
    "    \"\"\"Apply non-circular brute force algorithm to list with three elements (case 2)\"\"\"\n",
    "    assert max_reward_noncircular([4, 2, 3]) == 4\n",
    "\n",
    "def test_max_reward_noncircular_three_elements_3():\n",
    "    \"\"\"Apply non-circular brute force algorithm to list with three elements (case 3)\"\"\"\n",
    "    assert max_reward_noncircular([4, 4, 4]) == 0\n",
    "    \n",
    "def test_max_reward_noncircular_ten_elements():\n",
    "    \"\"\"Check that non-circular brute force algorithm gives correct result for a list with ten elements\"\"\"\n",
    "    assert max_reward_noncircular([3, 4, 6, 5, 3, 4, 5, 3, 6, 4]) == 36\n",
    "\n",
    "#### Cyclic permutations (Part 2) ####\n",
    "\n",
    "def test_cyclic_permutations_length_five():\n",
    "    \"\"\"Compute cyclic permutations of the list [0,1,2,3,4]\"\"\"\n",
    "    assert cyclic_permutations([0, 1, 2, 3, 4]) == [\n",
    "        [0, 1, 2, 3, 4],\n",
    "        [1, 2, 3, 4, 0],\n",
    "        [2, 3, 4, 0, 1],\n",
    "        [3, 4, 0, 1, 2],\n",
    "        [4, 0, 1, 2, 3],\n",
    "    ]\n",
    "\n",
    "#### Brute force (Part 3a) ####\n",
    "\n",
    "def test_max_reward_three_elements_1():\n",
    "    \"\"\"Apply non-circular  brute force algorithm to list with three elements (case 1)\"\"\"\n",
    "    assert max_reward([3, 2, 4]) == 9\n",
    "\n",
    "def test_max_reward_ten_elements():\n",
    "    \"\"\"Brute force, non-circular, ten elements\"\"\"\n",
    "    assert max_reward([3, 4, 6, 5, 3, 4, 5, 3, 6, 4]) == 45\n",
    "\n",
    "#### Divide-and-Conquer, non-circular (Part 4a) ####\n",
    "\n",
    "def test_max_reward_daq_noncircular_three_elements_1():\n",
    "    \"\"\"Apply non-circular Divide-and-Conquer algorithm to list with three elements (case 1)\"\"\"\n",
    "    assert max_reward_daq_noncircular([3, 2, 4], 4) == 9\n",
    "\n",
    "def test_max_reward_daq_noncircular_ten_elements():\n",
    "    \"\"\"Check that non-circular Divide-and-Conquer gives correct result on list with ten elements\"\"\"\n",
    "    assert max_reward_daq_noncircular([3, 4, 6, 5, 3, 4, 5, 3, 6, 4], 6) == 36\n",
    "\n",
    "def test_max_reward_daq_noncircular_large():\n",
    "    \"\"\"Check that the non-circular Divide-and-Conquer gives correct result on\n",
    "    a very long list (n=60 elements,m=10)\n",
    "\n",
    "    NB: if this times out, the Divide-and-Conquer implementation is probably wrong!\n",
    "    \"\"\"\n",
    "    b = (\n",
    "        [3, 2, 8, 10, 9, 10, 10, 4, 7, 5, 6, 4, 10, 9, 5, 7, 5, 10, 8, 2]\n",
    "        + [10, 7, 9, 5, 7, 10, 9, 4, 9, 8, 7, 2, 10, 7, 2, 3, 6, 9, 5, 2]\n",
    "        + [9, 4, 2, 5, 7, 4, 6, 6, 3, 3, 6, 5, 7, 6, 9, 2, 10, 8, 9, 6]\n",
    "    )\n",
    "    assert max_reward_daq_noncircular(b, 10) == 473\n",
    "\n",
    "#### Divide-and-Conquer (Part 4b) ####\n",
    "\n",
    "def test_max_reward_daq_three_elements_1():\n",
    "    \"\"\"Apply Divide-and-Conquer algorithm to list with three elements (case 1)\"\"\"\n",
    "    assert max_reward_daq([3, 2, 4]) == 9\n",
    "\n",
    "def test_max_reward_daq_ten_elements():\n",
    "    \"\"\"Check that Divide-and-Conquer gives correct results on list with ten elements\"\"\"\n",
    "    assert max_reward_daq([3, 4, 6, 5, 3, 4, 5, 3, 6, 4]) == 45\n",
    "\n",
    "def test_max_reward_daq_large():\n",
    "    \"\"\"Check that the Divide-and-Conquer algorithm gives correct results on\n",
    "    a very long list (n=60 elements,m=10)\n",
    "\n",
    "    NB: if this times out, the Divide-and-Conquer implementation is probably wrong!\n",
    "    \"\"\"\n",
    "    b = (\n",
    "        [3, 2, 8, 10, 9, 10, 10, 4, 7, 5, 6, 4, 10, 9, 5, 7, 5, 10, 8, 2]\n",
    "        + [10, 7, 9, 5, 7, 10, 9, 4, 9, 8, 7, 2, 10, 7, 2, 3, 6, 9, 5, 2]\n",
    "        + [9, 4, 2, 5, 7, 4, 6, 6, 3, 3, 6, 5, 7, 6, 9, 2, 10, 8, 9, 6]\n",
    "    )\n",
    "    assert max_reward_daq(b) == 498\n",
    "\n",
    "\n",
    "run_tests()"
   ]
  },
  {
   "cell_type": "code",
   "execution_count": null,
   "id": "c4b77082",
   "metadata": {},
   "outputs": [],
   "source": []
  }
 ],
 "metadata": {
  "kernelspec": {
   "display_name": "Python 3 (ipykernel)",
   "language": "python",
   "name": "python3"
  },
  "language_info": {
   "codemirror_mode": {
    "name": "ipython",
    "version": 3
   },
   "file_extension": ".py",
   "mimetype": "text/x-python",
   "name": "python",
   "nbconvert_exporter": "python",
   "pygments_lexer": "ipython3",
   "version": "3.9.13"
  },
  "vscode": {
   "interpreter": {
    "hash": "916dbcbb3f70747c44a77c7bcd40155683ae19c65e1c03b4aa3499c5328201f1"
   }
  }
 },
 "nbformat": 4,
 "nbformat_minor": 5
}
